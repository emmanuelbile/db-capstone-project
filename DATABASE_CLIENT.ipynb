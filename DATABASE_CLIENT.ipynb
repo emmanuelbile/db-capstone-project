{
 "cells": [
  {
   "cell_type": "code",
   "execution_count": 27,
   "metadata": {},
   "outputs": [],
   "source": [
    "# EXERCISE_1\n",
    "\n",
    "# Connection to LittleLemonDB\n",
    "import mysql.connector as connector\n",
    "\n",
    "dbconfig = {\n",
    "    \"database\":\"littlelemondb\",\n",
    "    \"user\" : \"emma\",\n",
    "    \"password\" : \"Bensikin*99\",\n",
    "    \"host\": \"127.0.0.1\"\n",
    "}\n",
    "\n",
    "connection = connector.connect(**dbconfig)\n"
   ]
  },
  {
   "cell_type": "code",
   "execution_count": 31,
   "metadata": {},
   "outputs": [
    {
     "name": "stdout",
     "output_type": "stream",
     "text": [
      "bookings\n",
      "customers\n",
      "delivery\n",
      "employees\n",
      "menuitems\n",
      "menus\n",
      "orders\n"
     ]
    }
   ],
   "source": [
    "# EXERCISE_2\n",
    "# show tables\n",
    "\n",
    "show_tables_query = \"SHOW tables;\" \n",
    "cursor = connection.cursor()\n",
    "cursor.execute(show_tables_query)\n",
    "results = cursor.fetchall()\n",
    "for table in results:\n",
    "    print(table[0])"
   ]
  },
  {
   "cell_type": "code",
   "execution_count": 30,
   "metadata": {},
   "outputs": [
    {
     "name": "stdout",
     "output_type": "stream",
     "text": [
      "FullName\t\tEmail\t\t\t\tTotalCost\n",
      "Anna Iversen\t\taniver@littlelemon\t\t\t86\n",
      "Vany McCarthy\t\tmcvan@littlelemon\t\t\t70\n",
      "Anna Iversen\t\taniver@littlelemon\t\t\t63\n"
     ]
    }
   ],
   "source": [
    "# Query with table join\n",
    "join_query = \"\"\"\n",
    "\n",
    "SELECT CONCAT(CustomerFirstName, ' ', CustomerLastName) AS FullName, Email, Orders.TotalCost\n",
    "FROM Customers \n",
    "JOIN Orders \n",
    "ON Customers.CustomerID = Orders.CustomerID\n",
    "WHERE\n",
    "Orders.TotalCost > 60;\n",
    "\n",
    "\"\"\"\n",
    "cursor.execute(join_query)\n",
    "results = cursor.fetchall()\n",
    "cols = cursor.column_names\n",
    "\n",
    "print(cols[0] + '\\t'*2 +  cols[1] +'\\t'*4 + cols[2])\n",
    "\n",
    "for re in results:\n",
    "    print(re[0] + '\\t'*2 +  re[1] + '\\t'*3 + str(re[2]))\n"
   ]
  }
 ],
 "metadata": {
  "kernelspec": {
   "display_name": "Python 3",
   "language": "python",
   "name": "python3"
  },
  "language_info": {
   "codemirror_mode": {
    "name": "ipython",
    "version": 3
   },
   "file_extension": ".py",
   "mimetype": "text/x-python",
   "name": "python",
   "nbconvert_exporter": "python",
   "pygments_lexer": "ipython3",
   "version": "3.10.9"
  },
  "orig_nbformat": 4
 },
 "nbformat": 4,
 "nbformat_minor": 2
}
